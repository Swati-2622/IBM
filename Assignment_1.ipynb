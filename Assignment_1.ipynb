{
  "nbformat": 4,
  "nbformat_minor": 0,
  "metadata": {
    "colab": {
      "provenance": [],
      "collapsed_sections": []
    },
    "kernelspec": {
      "name": "python3",
      "display_name": "Python 3"
    },
    "language_info": {
      "name": "python"
    }
  },
  "cells": [
    {
      "cell_type": "markdown",
      "source": [
        "# Basic Python"
      ],
      "metadata": {
        "id": "McSxJAwcOdZ1"
      }
    },
    {
      "cell_type": "markdown",
      "source": [
        "## 1. Split this string"
      ],
      "metadata": {
        "id": "CU48hgo4Owz5"
      }
    },
    {
      "cell_type": "code",
      "source": [
        "s = \"Hi there Sam!\""
      ],
      "metadata": {
        "id": "s07c7JK7Oqt-"
      },
      "execution_count": null,
      "outputs": []
    },
    {
      "cell_type": "code",
      "source": [
        "string = \"Hi there Sam!\"\n",
        "print(string.split())\n",
        "\n"
      ],
      "metadata": {
        "id": "6mGVa3SQYLkb",
        "colab": {
          "base_uri": "https://localhost:8080/"
        },
        "outputId": "97c58f1a-8027-4283-d7d5-13622c6519a3"
      },
      "execution_count": 4,
      "outputs": [
        {
          "output_type": "stream",
          "name": "stdout",
          "text": [
            "['Hi', 'there', 'Sam!']\n"
          ]
        }
      ]
    },
    {
      "cell_type": "markdown",
      "source": [
        "## 2. Use .format() to print the following string. \n",
        "\n",
        "### Output should be: The diameter of Earth is 12742 kilometers."
      ],
      "metadata": {
        "id": "GH1QBn8HP375"
      }
    },
    {
      "cell_type": "code",
      "source": [
        "planet = \"Earth\"\n",
        "diameter = 12742"
      ],
      "metadata": {
        "id": "_ZHoml3kPqic"
      },
      "execution_count": null,
      "outputs": []
    },
    {
      "cell_type": "code",
      "source": [
        "planet = \"Earth\"\n",
        "diameter = 12742\n",
        "\n",
        "print(\"The diameter of {} is {} kilometers.\".format(planet, diameter))\n"
      ],
      "metadata": {
        "id": "HyRyJv6CYPb4",
        "colab": {
          "base_uri": "https://localhost:8080/"
        },
        "outputId": "2515f31e-ddc2-4835-b61e-b0dac74f07f8"
      },
      "execution_count": 6,
      "outputs": [
        {
          "output_type": "stream",
          "name": "stdout",
          "text": [
            "The diameter of Earth is 12742 kilometers.\n"
          ]
        }
      ]
    },
    {
      "cell_type": "markdown",
      "source": [
        "## 3. In this nest dictionary grab the word \"hello\""
      ],
      "metadata": {
        "id": "KE74ZEwkRExZ"
      }
    },
    {
      "cell_type": "code",
      "source": [
        "d = {'k1':[1,2,3,{'tricky':['oh','man','inception',{'target':[1,2,3,'hello']}]}]}"
      ],
      "metadata": {
        "id": "fcVwbCc1QrQI"
      },
      "execution_count": null,
      "outputs": []
    },
    {
      "cell_type": "code",
      "source": [
        "d = {'k1':[1,2,3,{'tricky':['oh','man','inception',{'target':[1,2,3,'hello']}]}]}\n",
        "print(d['k1'][3][\"tricky\"][3]['target'][3])"
      ],
      "metadata": {
        "id": "MvbkMZpXYRaw",
        "colab": {
          "base_uri": "https://localhost:8080/"
        },
        "outputId": "90663721-a377-440c-e277-fb0557737749"
      },
      "execution_count": 10,
      "outputs": [
        {
          "output_type": "stream",
          "name": "stdout",
          "text": [
            "hello\n"
          ]
        }
      ]
    },
    {
      "cell_type": "markdown",
      "source": [
        "# Numpy"
      ],
      "metadata": {
        "id": "bw0vVp-9ddjv"
      }
    },
    {
      "cell_type": "code",
      "source": [
        "import numpy as np"
      ],
      "metadata": {
        "id": "LLiE_TYrhA1O"
      },
      "execution_count": 11,
      "outputs": []
    },
    {
      "cell_type": "markdown",
      "source": [
        "## 4.1 Create an array of 10 zeros? \n",
        "## 4.2 Create an array of 10 fives?"
      ],
      "metadata": {
        "id": "wOg8hinbgx30"
      }
    },
    {
      "cell_type": "code",
      "source": [
        "import numpy as np\n",
        "array=np.zeros(10)\n",
        "print(\"An array of 10 zeros:\")\n",
        "print(array)"
      ],
      "metadata": {
        "id": "NHrirmgCYXvU",
        "colab": {
          "base_uri": "https://localhost:8080/"
        },
        "outputId": "80ba5957-3489-479d-e95e-b17c8c072a6b"
      },
      "execution_count": 12,
      "outputs": [
        {
          "output_type": "stream",
          "name": "stdout",
          "text": [
            "An array of 10 zeros:\n",
            "[0. 0. 0. 0. 0. 0. 0. 0. 0. 0.]\n"
          ]
        }
      ]
    },
    {
      "cell_type": "code",
      "source": [
        "import numpy as np\n",
        "array=np.ones(10)*5\n",
        "print(\"An array of 10 fives:\")\n",
        "print(array)"
      ],
      "metadata": {
        "id": "e4005lsTYXxx",
        "colab": {
          "base_uri": "https://localhost:8080/"
        },
        "outputId": "4349e697-7efc-47ee-cbec-e5dadef6cdfe"
      },
      "execution_count": 13,
      "outputs": [
        {
          "output_type": "stream",
          "name": "stdout",
          "text": [
            "An array of 10 fives:\n",
            "[5. 5. 5. 5. 5. 5. 5. 5. 5. 5.]\n"
          ]
        }
      ]
    },
    {
      "cell_type": "markdown",
      "source": [
        "## 5. Create an array of all the even integers from 20 to 35"
      ],
      "metadata": {
        "id": "gZHHDUBvrMX4"
      }
    },
    {
      "cell_type": "code",
      "source": [
        "import numpy as np\n",
        "array=np.arange(30,71,2)\n",
        "print(\"Array of all the even integers from 30 to 70\")\n",
        "print(array) "
      ],
      "metadata": {
        "id": "oAI2tbU2Yag-",
        "colab": {
          "base_uri": "https://localhost:8080/"
        },
        "outputId": "861512b7-528e-4356-8c3b-ec3aadb0e4f5"
      },
      "execution_count": 14,
      "outputs": [
        {
          "output_type": "stream",
          "name": "stdout",
          "text": [
            "Array of all the even integers from 30 to 70\n",
            "[30 32 34 36 38 40 42 44 46 48 50 52 54 56 58 60 62 64 66 68 70]\n"
          ]
        }
      ]
    },
    {
      "cell_type": "markdown",
      "source": [
        "## 6. Create a 3x3 matrix with values ranging from 0 to 8"
      ],
      "metadata": {
        "id": "NaOM308NsRpZ"
      }
    },
    {
      "cell_type": "code",
      "source": [
        "import numpy as np\n",
        "x =  np.arange(0, 9).reshape(3,3)\n",
        "print(x)"
      ],
      "metadata": {
        "id": "tOlEVH7BYceE",
        "colab": {
          "base_uri": "https://localhost:8080/"
        },
        "outputId": "80f9c8e1-d9a9-405a-f00e-744be7dd7c3e"
      },
      "execution_count": 15,
      "outputs": [
        {
          "output_type": "stream",
          "name": "stdout",
          "text": [
            "[[0 1 2]\n",
            " [3 4 5]\n",
            " [6 7 8]]\n"
          ]
        }
      ]
    },
    {
      "cell_type": "markdown",
      "source": [
        "## 7. Concatenate a and b \n",
        "## a = np.array([1, 2, 3]), b = np.array([4, 5, 6])"
      ],
      "metadata": {
        "id": "hQ0dnhAQuU_p"
      }
    },
    {
      "cell_type": "code",
      "source": [
        "a = np.array([[1, 2,3]])\n",
        "b = np.array([[4,5, 6]])\n",
        "np.concatenate((a, b), axis=0)"
      ],
      "metadata": {
        "id": "rAPSw97aYfE0",
        "colab": {
          "base_uri": "https://localhost:8080/"
        },
        "outputId": "31a0bb22-6689-4d49-9b31-e75a186f379b"
      },
      "execution_count": 21,
      "outputs": [
        {
          "output_type": "execute_result",
          "data": {
            "text/plain": [
              "array([[1, 2, 3],\n",
              "       [4, 5, 6]])"
            ]
          },
          "metadata": {},
          "execution_count": 21
        }
      ]
    },
    {
      "cell_type": "markdown",
      "source": [
        "# Pandas"
      ],
      "metadata": {
        "id": "dlPEY9DRwZga"
      }
    },
    {
      "cell_type": "markdown",
      "source": [
        "## 8. Create a dataframe with 3 rows and 2 columns"
      ],
      "metadata": {
        "id": "ijoYW51zwr87"
      }
    },
    {
      "cell_type": "code",
      "source": [
        "import pandas as pd\n"
      ],
      "metadata": {
        "id": "T5OxJRZ8uvR7"
      },
      "execution_count": null,
      "outputs": []
    },
    {
      "cell_type": "code",
      "source": [
        "import pandas as pd\n",
        "import numpy as np\n",
        "A = np.random.randint(10, size=(3,2))\n",
        "A"
      ],
      "metadata": {
        "id": "xNpI_XXoYhs0",
        "colab": {
          "base_uri": "https://localhost:8080/"
        },
        "outputId": "553526d1-5063-427b-eeca-b51bb232ece4"
      },
      "execution_count": 20,
      "outputs": [
        {
          "output_type": "execute_result",
          "data": {
            "text/plain": [
              "array([[2, 7],\n",
              "       [3, 8],\n",
              "       [7, 8]])"
            ]
          },
          "metadata": {},
          "execution_count": 20
        }
      ]
    },
    {
      "cell_type": "markdown",
      "source": [
        "## 9. Generate the series of dates from 1st Jan, 2023 to 10th Feb, 2023"
      ],
      "metadata": {
        "id": "UXSmdNclyJQD"
      }
    },
    {
      "cell_type": "code",
      "source": [
        "import pandas as pd\n",
        "per1 = pd.date_range(start ='1-1-2023',\n",
        "\t\tend ='02-10-2023', freq ='5H')\n",
        "for val in per1:\n",
        "\tprint(val)\n"
      ],
      "metadata": {
        "id": "dgyC0JhVYl4F",
        "colab": {
          "base_uri": "https://localhost:8080/"
        },
        "outputId": "8956348c-9047-48aa-fa2f-eb37a6f0e978"
      },
      "execution_count": 32,
      "outputs": [
        {
          "output_type": "stream",
          "name": "stdout",
          "text": [
            "2023-01-01 00:00:00\n",
            "2023-01-01 05:00:00\n",
            "2023-01-01 10:00:00\n",
            "2023-01-01 15:00:00\n",
            "2023-01-01 20:00:00\n",
            "2023-01-02 01:00:00\n",
            "2023-01-02 06:00:00\n",
            "2023-01-02 11:00:00\n",
            "2023-01-02 16:00:00\n",
            "2023-01-02 21:00:00\n",
            "2023-01-03 02:00:00\n",
            "2023-01-03 07:00:00\n",
            "2023-01-03 12:00:00\n",
            "2023-01-03 17:00:00\n",
            "2023-01-03 22:00:00\n",
            "2023-01-04 03:00:00\n",
            "2023-01-04 08:00:00\n",
            "2023-01-04 13:00:00\n",
            "2023-01-04 18:00:00\n",
            "2023-01-04 23:00:00\n",
            "2023-01-05 04:00:00\n",
            "2023-01-05 09:00:00\n",
            "2023-01-05 14:00:00\n",
            "2023-01-05 19:00:00\n",
            "2023-01-06 00:00:00\n",
            "2023-01-06 05:00:00\n",
            "2023-01-06 10:00:00\n",
            "2023-01-06 15:00:00\n",
            "2023-01-06 20:00:00\n",
            "2023-01-07 01:00:00\n",
            "2023-01-07 06:00:00\n",
            "2023-01-07 11:00:00\n",
            "2023-01-07 16:00:00\n",
            "2023-01-07 21:00:00\n",
            "2023-01-08 02:00:00\n",
            "2023-01-08 07:00:00\n",
            "2023-01-08 12:00:00\n",
            "2023-01-08 17:00:00\n",
            "2023-01-08 22:00:00\n",
            "2023-01-09 03:00:00\n",
            "2023-01-09 08:00:00\n",
            "2023-01-09 13:00:00\n",
            "2023-01-09 18:00:00\n",
            "2023-01-09 23:00:00\n",
            "2023-01-10 04:00:00\n",
            "2023-01-10 09:00:00\n",
            "2023-01-10 14:00:00\n",
            "2023-01-10 19:00:00\n",
            "2023-01-11 00:00:00\n",
            "2023-01-11 05:00:00\n",
            "2023-01-11 10:00:00\n",
            "2023-01-11 15:00:00\n",
            "2023-01-11 20:00:00\n",
            "2023-01-12 01:00:00\n",
            "2023-01-12 06:00:00\n",
            "2023-01-12 11:00:00\n",
            "2023-01-12 16:00:00\n",
            "2023-01-12 21:00:00\n",
            "2023-01-13 02:00:00\n",
            "2023-01-13 07:00:00\n",
            "2023-01-13 12:00:00\n",
            "2023-01-13 17:00:00\n",
            "2023-01-13 22:00:00\n",
            "2023-01-14 03:00:00\n",
            "2023-01-14 08:00:00\n",
            "2023-01-14 13:00:00\n",
            "2023-01-14 18:00:00\n",
            "2023-01-14 23:00:00\n",
            "2023-01-15 04:00:00\n",
            "2023-01-15 09:00:00\n",
            "2023-01-15 14:00:00\n",
            "2023-01-15 19:00:00\n",
            "2023-01-16 00:00:00\n",
            "2023-01-16 05:00:00\n",
            "2023-01-16 10:00:00\n",
            "2023-01-16 15:00:00\n",
            "2023-01-16 20:00:00\n",
            "2023-01-17 01:00:00\n",
            "2023-01-17 06:00:00\n",
            "2023-01-17 11:00:00\n",
            "2023-01-17 16:00:00\n",
            "2023-01-17 21:00:00\n",
            "2023-01-18 02:00:00\n",
            "2023-01-18 07:00:00\n",
            "2023-01-18 12:00:00\n",
            "2023-01-18 17:00:00\n",
            "2023-01-18 22:00:00\n",
            "2023-01-19 03:00:00\n",
            "2023-01-19 08:00:00\n",
            "2023-01-19 13:00:00\n",
            "2023-01-19 18:00:00\n",
            "2023-01-19 23:00:00\n",
            "2023-01-20 04:00:00\n",
            "2023-01-20 09:00:00\n",
            "2023-01-20 14:00:00\n",
            "2023-01-20 19:00:00\n",
            "2023-01-21 00:00:00\n",
            "2023-01-21 05:00:00\n",
            "2023-01-21 10:00:00\n",
            "2023-01-21 15:00:00\n",
            "2023-01-21 20:00:00\n",
            "2023-01-22 01:00:00\n",
            "2023-01-22 06:00:00\n",
            "2023-01-22 11:00:00\n",
            "2023-01-22 16:00:00\n",
            "2023-01-22 21:00:00\n",
            "2023-01-23 02:00:00\n",
            "2023-01-23 07:00:00\n",
            "2023-01-23 12:00:00\n",
            "2023-01-23 17:00:00\n",
            "2023-01-23 22:00:00\n",
            "2023-01-24 03:00:00\n",
            "2023-01-24 08:00:00\n",
            "2023-01-24 13:00:00\n",
            "2023-01-24 18:00:00\n",
            "2023-01-24 23:00:00\n",
            "2023-01-25 04:00:00\n",
            "2023-01-25 09:00:00\n",
            "2023-01-25 14:00:00\n",
            "2023-01-25 19:00:00\n",
            "2023-01-26 00:00:00\n",
            "2023-01-26 05:00:00\n",
            "2023-01-26 10:00:00\n",
            "2023-01-26 15:00:00\n",
            "2023-01-26 20:00:00\n",
            "2023-01-27 01:00:00\n",
            "2023-01-27 06:00:00\n",
            "2023-01-27 11:00:00\n",
            "2023-01-27 16:00:00\n",
            "2023-01-27 21:00:00\n",
            "2023-01-28 02:00:00\n",
            "2023-01-28 07:00:00\n",
            "2023-01-28 12:00:00\n",
            "2023-01-28 17:00:00\n",
            "2023-01-28 22:00:00\n",
            "2023-01-29 03:00:00\n",
            "2023-01-29 08:00:00\n",
            "2023-01-29 13:00:00\n",
            "2023-01-29 18:00:00\n",
            "2023-01-29 23:00:00\n",
            "2023-01-30 04:00:00\n",
            "2023-01-30 09:00:00\n",
            "2023-01-30 14:00:00\n",
            "2023-01-30 19:00:00\n",
            "2023-01-31 00:00:00\n",
            "2023-01-31 05:00:00\n",
            "2023-01-31 10:00:00\n",
            "2023-01-31 15:00:00\n",
            "2023-01-31 20:00:00\n",
            "2023-02-01 01:00:00\n",
            "2023-02-01 06:00:00\n",
            "2023-02-01 11:00:00\n",
            "2023-02-01 16:00:00\n",
            "2023-02-01 21:00:00\n",
            "2023-02-02 02:00:00\n",
            "2023-02-02 07:00:00\n",
            "2023-02-02 12:00:00\n",
            "2023-02-02 17:00:00\n",
            "2023-02-02 22:00:00\n",
            "2023-02-03 03:00:00\n",
            "2023-02-03 08:00:00\n",
            "2023-02-03 13:00:00\n",
            "2023-02-03 18:00:00\n",
            "2023-02-03 23:00:00\n",
            "2023-02-04 04:00:00\n",
            "2023-02-04 09:00:00\n",
            "2023-02-04 14:00:00\n",
            "2023-02-04 19:00:00\n",
            "2023-02-05 00:00:00\n",
            "2023-02-05 05:00:00\n",
            "2023-02-05 10:00:00\n",
            "2023-02-05 15:00:00\n",
            "2023-02-05 20:00:00\n",
            "2023-02-06 01:00:00\n",
            "2023-02-06 06:00:00\n",
            "2023-02-06 11:00:00\n",
            "2023-02-06 16:00:00\n",
            "2023-02-06 21:00:00\n",
            "2023-02-07 02:00:00\n",
            "2023-02-07 07:00:00\n",
            "2023-02-07 12:00:00\n",
            "2023-02-07 17:00:00\n",
            "2023-02-07 22:00:00\n",
            "2023-02-08 03:00:00\n",
            "2023-02-08 08:00:00\n",
            "2023-02-08 13:00:00\n",
            "2023-02-08 18:00:00\n",
            "2023-02-08 23:00:00\n",
            "2023-02-09 04:00:00\n",
            "2023-02-09 09:00:00\n",
            "2023-02-09 14:00:00\n",
            "2023-02-09 19:00:00\n",
            "2023-02-10 00:00:00\n"
          ]
        }
      ]
    },
    {
      "cell_type": "markdown",
      "source": [
        "## 10. Create 2D list to DataFrame\n",
        "\n",
        "lists = [[1, 'aaa', 22],\n",
        "         [2, 'bbb', 25],\n",
        "         [3, 'ccc', 24]]"
      ],
      "metadata": {
        "id": "ZizSetD-y5az"
      }
    },
    {
      "cell_type": "code",
      "source": [
        "lists = [[1, 'aaa', 22], [2, 'bbb', 25], [3, 'ccc', 24]]"
      ],
      "metadata": {
        "id": "_XMC8aEt0llB"
      },
      "execution_count": null,
      "outputs": []
    },
    {
      "cell_type": "code",
      "source": [
        "import pandas as pd  \n",
        "lists = [[1, 'aaa', 22], [2, 'bbb', 25], [3, 'ccc', 24]]\n",
        "df = pd.DataFrame(lists, columns =['FName', 'LName', 'Age'])\n",
        "print(df)"
      ],
      "metadata": {
        "id": "knH76sDKYsVX",
        "colab": {
          "base_uri": "https://localhost:8080/"
        },
        "outputId": "a65223a2-5545-47ce-992f-d34aebf8215d"
      },
      "execution_count": 27,
      "outputs": [
        {
          "output_type": "stream",
          "name": "stdout",
          "text": [
            "   FName LName  Age\n",
            "0      1   aaa   22\n",
            "1      2   bbb   25\n",
            "2      3   ccc   24\n"
          ]
        }
      ]
    }
  ]
}